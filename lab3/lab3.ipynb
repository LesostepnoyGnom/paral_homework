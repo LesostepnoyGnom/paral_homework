{
  "nbformat": 4,
  "nbformat_minor": 0,
  "metadata": {
    "colab": {
      "provenance": []
    },
    "kernelspec": {
      "name": "python3",
      "display_name": "Python 3"
    },
    "language_info": {
      "name": "python"
    }
  },
  "cells": [
    {
      "cell_type": "code",
      "source": [
        "!pip install pyspark"
      ],
      "metadata": {
        "colab": {
          "base_uri": "https://localhost:8080/"
        },
        "id": "bNuoTvxWt-WJ",
        "outputId": "6f00217b-3377-4a71-bd9e-0ec41581217d"
      },
      "execution_count": 2,
      "outputs": [
        {
          "output_type": "stream",
          "name": "stdout",
          "text": [
            "Collecting pyspark\n",
            "  Downloading pyspark-3.5.0.tar.gz (316.9 MB)\n",
            "\u001b[2K     \u001b[90m━━━━━━━━━━━━━━━━━━━━━━━━━━━━━━━━━━━━━━━━\u001b[0m \u001b[32m316.9/316.9 MB\u001b[0m \u001b[31m4.1 MB/s\u001b[0m eta \u001b[36m0:00:00\u001b[0m\n",
            "\u001b[?25h  Preparing metadata (setup.py) ... \u001b[?25l\u001b[?25hdone\n",
            "Requirement already satisfied: py4j==0.10.9.7 in /usr/local/lib/python3.10/dist-packages (from pyspark) (0.10.9.7)\n",
            "Building wheels for collected packages: pyspark\n",
            "  Building wheel for pyspark (setup.py) ... \u001b[?25l\u001b[?25hdone\n",
            "  Created wheel for pyspark: filename=pyspark-3.5.0-py2.py3-none-any.whl size=317425345 sha256=eb21fb7c11c1c45c1aaee75236e5db8dcbeb41f23b74bb23ca11627947fdcbdd\n",
            "  Stored in directory: /root/.cache/pip/wheels/41/4e/10/c2cf2467f71c678cfc8a6b9ac9241e5e44a01940da8fbb17fc\n",
            "Successfully built pyspark\n",
            "Installing collected packages: pyspark\n",
            "Successfully installed pyspark-3.5.0\n"
          ]
        }
      ]
    },
    {
      "cell_type": "code",
      "execution_count": 5,
      "metadata": {
        "id": "Ayjxb_JltpIV"
      },
      "outputs": [],
      "source": [
        "from pyspark.sql import SparkSession\n",
        "\n",
        "spark = SparkSession.builder.master(\"local[2]\")\\\n",
        "    .appName(\"PySpark\")\\\n",
        "    .config(\"spark.executor.memory\", \"2g\")\\\n",
        "    .getOrCreate()"
      ]
    },
    {
      "cell_type": "code",
      "source": [
        "from google.colab import drive\n",
        "drive.mount('/content/drive')"
      ],
      "metadata": {
        "colab": {
          "base_uri": "https://localhost:8080/"
        },
        "id": "IoszisPQui8-",
        "outputId": "a4034870-d531-4c4e-ce8a-6edf293a8996"
      },
      "execution_count": 63,
      "outputs": [
        {
          "output_type": "stream",
          "name": "stdout",
          "text": [
            "Drive already mounted at /content/drive; to attempt to forcibly remount, call drive.mount(\"/content/drive\", force_remount=True).\n"
          ]
        }
      ]
    },
    {
      "cell_type": "code",
      "source": [
        "import random\n",
        "from pyspark.sql import Row\n",
        "from pyspark.sql.types import StructType, StructField, StringType, IntegerType\n",
        "from pyspark.sql.functions import col, udf, monotonically_increasing_id, mean"
      ],
      "metadata": {
        "id": "7hU6kCw0t48C"
      },
      "execution_count": 64,
      "outputs": []
    },
    {
      "cell_type": "code",
      "source": [
        "data = spark.read.json('/content/drive/MyDrive/datasets_itmo/cards.json')"
      ],
      "metadata": {
        "id": "ey3pGnEIurE7"
      },
      "execution_count": 65,
      "outputs": []
    },
    {
      "cell_type": "code",
      "source": [
        "data.show(10)"
      ],
      "metadata": {
        "colab": {
          "base_uri": "https://localhost:8080/"
        },
        "id": "01NHCcefuw8d",
        "outputId": "9807015d-9113-44df-9498-c98ca7e8cfa1"
      },
      "execution_count": 66,
      "outputs": [
        {
          "output_type": "stream",
          "name": "stdout",
          "text": [
            "+----------------+------+---------+-------+-----------+--------------+----+-----+----------+-----+--------------------+-------+--------------------+------+---------+---------+---------------+---------+--------------------+---------------+-------------------+--------+--------------------+-----------+----+---------+--------------+-------+-----------+------------------+--------------------+-----------+\n",
            "|          artist|attack|cardClass|classes|collectible|collectionText|cost|dbfId|durability|elite|           entourage|faction|              flavor|health|hideStats|howToEarn|howToEarnGolden|       id|           mechanics|multiClassGroup|               name|overload|    playRequirements|playerClass|race|   rarity|referencedTags|    set|spellDamage|targetingArrowText|                text|       type|\n",
            "+----------------+------+---------+-------+-----------+--------------+----+-----+----------+-----+--------------------+-------+--------------------+------+---------+---------+---------------+---------+--------------------+---------------+-------------------+--------+--------------------+-----------+----+---------+--------------+-------+-----------+------------------+--------------------+-----------+\n",
            "|  Zoltan & Gabor|  NULL|   SHAMAN|   NULL|       true|          NULL|   2|  404|      NULL| NULL|                NULL|   NULL|It was just a fle...|  NULL|     NULL|     NULL|           NULL|  CS2_038|                NULL|           NULL|   Ancestral Spirit|    NULL|{NULL, NULL, NULL...|     SHAMAN|NULL|     RARE| [DEATHRATTLE]|EXPERT1|       NULL|              NULL|Give a minion \"<b...|      SPELL|\n",
            "|            NULL|  NULL|  NEUTRAL|   NULL|       NULL|          NULL|NULL| 2643|      NULL| NULL|[BRMA14_10, BRMA1...|   NULL|                NULL|  NULL|     NULL|     NULL|           NULL|   TB_001|                NULL|           NULL|    Boss HP Swapper|    NULL|                NULL|    NEUTRAL|NULL|     NULL|          NULL|     TB|       NULL|              NULL|                NULL|ENCHANTMENT|\n",
            "|            NULL|  NULL|  NEUTRAL|   NULL|       NULL|          NULL|   1| 2325|      NULL| NULL|                NULL|   NULL|                NULL|  NULL|     NULL|     NULL|           NULL| BRMA04_2|      [AI_MUST_PLAY]|           NULL|        Magma Pulse|    NULL|                NULL|    NEUTRAL|NULL|     NULL|          NULL|    BRM|       NULL|              NULL|<b>Hero Power</b>...| HERO_POWER|\n",
            "|   John Polidora|    10|  NEUTRAL|   NULL|       true|          NULL|   9| 2725|      NULL| true|                NULL|   NULL|This massive yeti...|    10|     NULL|     NULL|           NULL|   AT_125|            [CHARGE]|           NULL|            Icehowl|    NULL|                NULL|    NEUTRAL|NULL|LEGENDARY|          NULL|    TGT|       NULL|              NULL|<b>Charge</b>\\nCa...|     MINION|\n",
            "|            NULL|  NULL|  WARRIOR|   NULL|       NULL|          NULL|NULL|  521|      NULL| NULL|                NULL|   NULL|                NULL|  NULL|     NULL|     NULL|           NULL|NEW1_036e|[TAG_ONE_TURN_EFF...|           NULL|   Commanding Shout|    NULL|                NULL|    WARRIOR|NULL|     NULL|          NULL|EXPERT1|       NULL|              NULL|Can't be reduced ...|ENCHANTMENT|\n",
            "|            NULL|     1|  NEUTRAL|   NULL|       NULL|          NULL|   1| 2399|      NULL| NULL|                NULL|   NULL|                NULL|     1|     NULL|     NULL|           NULL| BRMA15_4|            [CHARGE]|           NULL|         Aberration|    NULL|                NULL|    NEUTRAL|NULL|     NULL|          NULL|    BRM|       NULL|              NULL|       <b>Charge</b>|     MINION|\n",
            "|  Lucas Graciano|  NULL|  PALADIN|   NULL|       true|          NULL|   3|  679|      NULL| NULL|                NULL|   NULL|This is not just ...|  NULL|     NULL|     NULL|           NULL|  EX1_349|                NULL|           NULL|       Divine Favor|    NULL|                NULL|    PALADIN|NULL|     RARE|          NULL|EXPERT1|       NULL|              NULL|Draw cards until ...|      SPELL|\n",
            "|            NULL|  NULL|  NEUTRAL|   NULL|       NULL|          NULL|NULL| 2118|      NULL| NULL|                NULL|   NULL|                NULL|    99|     NULL|     NULL|           NULL| NAX6_01H|                NULL|           NULL|            Loatheb|    NULL|                NULL|    NEUTRAL|NULL|     NULL|          NULL|   NAXX|       NULL|              NULL|                NULL|       HERO|\n",
            "|Mauricio Herrera|  NULL|  NEUTRAL|   NULL|       NULL|          NULL|NULL|40572|      NULL| NULL|                NULL|   NULL|                NULL|  NULL|     NULL|     NULL|           NULL| CFM_755e|                NULL|           NULL|          Smuggling|    NULL|                NULL|    NEUTRAL|NULL|     NULL|          NULL|  GANGS|       NULL|              NULL|+1/+1 from Grimes...|ENCHANTMENT|\n",
            "|            NULL|     1|  NEUTRAL|   NULL|       NULL|          NULL|   1| 2424|      NULL| NULL|                NULL|   NULL|                NULL|     1|     NULL|     NULL|           NULL|BRMA02_2t|             [TAUNT]|           NULL|Dark Iron Spectator|    NULL|                NULL|    NEUTRAL|NULL|     NULL|          NULL|    BRM|       NULL|              NULL|        <b>Taunt</b>|     MINION|\n",
            "+----------------+------+---------+-------+-----------+--------------+----+-----+----------+-----+--------------------+-------+--------------------+------+---------+---------+---------------+---------+--------------------+---------------+-------------------+--------+--------------------+-----------+----+---------+--------------+-------+-----------+------------------+--------------------+-----------+\n",
            "only showing top 10 rows\n",
            "\n"
          ]
        }
      ]
    },
    {
      "cell_type": "code",
      "source": [
        "data = data.na.drop(subset=[\"artist\", \"attack\", \"health\"])\n",
        "data_authors = data.cache()"
      ],
      "metadata": {
        "id": "D2cNY_1wuzc7"
      },
      "execution_count": 67,
      "outputs": []
    },
    {
      "cell_type": "code",
      "source": [
        "for column_name in data_authors.columns:\n",
        "    rows_number_not_empty = data_authors.filter(col(column_name).isNotNull()).count()\n",
        "    rows_number_unique = data_authors.select(column_name).distinct().count() # distinct operation may help\n",
        "\n",
        "    print('{}. Non empty: {}\\tUnique values: {}'.format(column_name, rows_number_not_empty, rows_number_unique))"
      ],
      "metadata": {
        "colab": {
          "base_uri": "https://localhost:8080/"
        },
        "id": "AlZPDMLcu6vH",
        "outputId": "e0cab8a6-1f47-43e3-d734-4e466fa6898c"
      },
      "execution_count": 68,
      "outputs": [
        {
          "output_type": "stream",
          "name": "stdout",
          "text": [
            "artist. Non empty: 829\tUnique values: 234\n",
            "attack. Non empty: 829\tUnique values: 31\n",
            "cardClass. Non empty: 829\tUnique values: 10\n",
            "classes. Non empty: 9\tUnique values: 4\n",
            "collectible. Non empty: 731\tUnique values: 2\n",
            "collectionText. Non empty: 5\tUnique values: 6\n",
            "cost. Non empty: 829\tUnique values: 14\n",
            "dbfId. Non empty: 829\tUnique values: 829\n",
            "durability. Non empty: 0\tUnique values: 1\n",
            "elite. Non empty: 141\tUnique values: 2\n",
            "entourage. Non empty: 6\tUnique values: 7\n",
            "faction. Non empty: 60\tUnique values: 3\n",
            "flavor. Non empty: 731\tUnique values: 732\n",
            "health. Non empty: 829\tUnique values: 30\n",
            "hideStats. Non empty: 2\tUnique values: 2\n",
            "howToEarn. Non empty: 136\tUnique values: 27\n",
            "howToEarnGolden. Non empty: 181\tUnique values: 77\n",
            "id. Non empty: 829\tUnique values: 829\n",
            "mechanics. Non empty: 553\tUnique values: 49\n",
            "multiClassGroup. Non empty: 9\tUnique values: 4\n",
            "name. Non empty: 829\tUnique values: 791\n",
            "overload. Non empty: 9\tUnique values: 4\n",
            "playRequirements. Non empty: 81\tUnique values: 34\n",
            "playerClass. Non empty: 829\tUnique values: 10\n",
            "race. Non empty: 240\tUnique values: 8\n",
            "rarity. Non empty: 744\tUnique values: 6\n",
            "referencedTags. Non empty: 131\tUnique values: 23\n",
            "set. Non empty: 829\tUnique values: 12\n",
            "spellDamage. Non empty: 14\tUnique values: 4\n",
            "targetingArrowText. Non empty: 49\tUnique values: 40\n",
            "text. Non empty: 734\tUnique values: 648\n",
            "type. Non empty: 829\tUnique values: 1\n"
          ]
        }
      ]
    },
    {
      "cell_type": "code",
      "source": [
        "data_authors.select('race').distinct().show()\n",
        "data_authors.select('rarity').distinct().show()"
      ],
      "metadata": {
        "colab": {
          "base_uri": "https://localhost:8080/"
        },
        "id": "q17dhLAuu86g",
        "outputId": "9c90950a-5f31-4340-cab5-639d55ffcdf7"
      },
      "execution_count": 69,
      "outputs": [
        {
          "output_type": "stream",
          "name": "stdout",
          "text": [
            "+----------+\n",
            "|      race|\n",
            "+----------+\n",
            "|MECHANICAL|\n",
            "|    MURLOC|\n",
            "|    DRAGON|\n",
            "|     TOTEM|\n",
            "|     BEAST|\n",
            "|     DEMON|\n",
            "|    PIRATE|\n",
            "|      NULL|\n",
            "+----------+\n",
            "\n",
            "+---------+\n",
            "|   rarity|\n",
            "+---------+\n",
            "|     FREE|\n",
            "|     EPIC|\n",
            "|     RARE|\n",
            "|   COMMON|\n",
            "|LEGENDARY|\n",
            "|     NULL|\n",
            "+---------+\n",
            "\n"
          ]
        }
      ]
    },
    {
      "cell_type": "code",
      "source": [
        "str2int_rarity = {\n",
        "    'FREE': 1,\n",
        "    'COMMON': 2,\n",
        "    'RARE': 3,\n",
        "    'LEGENDARY': 4,\n",
        "    'EPIC': 5,\n",
        "    'NULL': 0\n",
        "}"
      ],
      "metadata": {
        "id": "FVNffEOUvP7K"
      },
      "execution_count": 70,
      "outputs": []
    },
    {
      "cell_type": "code",
      "source": [
        "def rarity2int(rarity):\n",
        "    return int(str2int_rarity.get(rarity, 0))"
      ],
      "metadata": {
        "id": "A6rqlgSTvSO4"
      },
      "execution_count": 71,
      "outputs": []
    },
    {
      "cell_type": "code",
      "source": [
        "data_authors = data_authors.withColumn('rarity_int', udf(lambda x:rarity2int(x), IntegerType())(col('rarity')))"
      ],
      "metadata": {
        "id": "rsqq0E8rvWuY"
      },
      "execution_count": 72,
      "outputs": []
    },
    {
      "cell_type": "code",
      "source": [
        "data_authors.groupby('race').agg(mean('rarity_int').alias('average rarity')).show()"
      ],
      "metadata": {
        "colab": {
          "base_uri": "https://localhost:8080/"
        },
        "id": "-CYCwfl3vbeW",
        "outputId": "43aa2ed2-821f-4723-b132-c8eb6ae42b8e"
      },
      "execution_count": 73,
      "outputs": [
        {
          "output_type": "stream",
          "name": "stdout",
          "text": [
            "+----------+------------------+\n",
            "|      race|    average rarity|\n",
            "+----------+------------------+\n",
            "|MECHANICAL|3.0185185185185186|\n",
            "|      NULL|2.6536502546689302|\n",
            "|    MURLOC| 2.652173913043478|\n",
            "|    DRAGON|3.2222222222222223|\n",
            "|     TOTEM|               2.5|\n",
            "|     BEAST|               2.3|\n",
            "|     DEMON|2.3333333333333335|\n",
            "|    PIRATE|2.8947368421052633|\n",
            "+----------+------------------+\n",
            "\n"
          ]
        }
      ]
    },
    {
      "cell_type": "code",
      "source": [
        "@udf(returnType=IntegerType())\n",
        "def calculate_number_of_attacks(health, attack):\n",
        "    if attack == 0:\n",
        "        return -1\n",
        "    return health // attack + (0 if health % attack == 0 else 1)"
      ],
      "metadata": {
        "id": "CA_5bZxXvdJH"
      },
      "execution_count": 74,
      "outputs": []
    },
    {
      "cell_type": "code",
      "source": [
        "data_authors_2 = data_authors.withColumn('Attack to kill itself', calculate_number_of_attacks(\"health\", \"attack\")).select('health', 'attack', 'Attack to kill itself')\n",
        "data_authors_2.show(5)"
      ],
      "metadata": {
        "colab": {
          "base_uri": "https://localhost:8080/"
        },
        "id": "PA_HDm48vm7I",
        "outputId": "21bec2d4-29eb-4c65-c0eb-a25e4b8fd44f"
      },
      "execution_count": 75,
      "outputs": [
        {
          "output_type": "stream",
          "name": "stdout",
          "text": [
            "+------+------+---------------------+\n",
            "|health|attack|Attack to kill itself|\n",
            "+------+------+---------------------+\n",
            "|    10|    10|                    1|\n",
            "|     5|     3|                    2|\n",
            "|     3|     2|                    2|\n",
            "|     2|     2|                    1|\n",
            "|     4|     5|                    1|\n",
            "+------+------+---------------------+\n",
            "only showing top 5 rows\n",
            "\n"
          ]
        }
      ]
    },
    {
      "cell_type": "code",
      "source": [
        "random_ids_left = list(range(data_authors.count() + 1))\n",
        "random_ids_right = list(range(data_authors.count() + 1))\n",
        "\n",
        "random.shuffle(random_ids_left)\n",
        "random.shuffle(random_ids_right)"
      ],
      "metadata": {
        "id": "j7qs5jEZvpbH"
      },
      "execution_count": 76,
      "outputs": []
    },
    {
      "cell_type": "code",
      "source": [
        "data_authors = data_authors.withColumn('unique_id', monotonically_increasing_id())"
      ],
      "metadata": {
        "id": "y8l1UqhbvuLk"
      },
      "execution_count": 77,
      "outputs": []
    },
    {
      "cell_type": "code",
      "source": [
        "data_authors = data_authors.withColumn('left_id', udf(lambda x: random_ids_left[x], IntegerType())(col('unique_id')))\n",
        "data_authors = data_authors.withColumn('right_id', udf(lambda x: random_ids_right[x], IntegerType())(col('unique_id'))).cache()"
      ],
      "metadata": {
        "id": "T5s6RdTWvv3l"
      },
      "execution_count": 78,
      "outputs": []
    },
    {
      "cell_type": "code",
      "source": [
        "data_authors.count()"
      ],
      "metadata": {
        "colab": {
          "base_uri": "https://localhost:8080/"
        },
        "id": "Om8DhZezvxuz",
        "outputId": "80d02f2d-c988-4a83-a296-435cf8e1c673"
      },
      "execution_count": 79,
      "outputs": [
        {
          "output_type": "execute_result",
          "data": {
            "text/plain": [
              "829"
            ]
          },
          "metadata": {},
          "execution_count": 79
        }
      ]
    },
    {
      "cell_type": "code",
      "source": [
        "data_authors.show(10)"
      ],
      "metadata": {
        "colab": {
          "base_uri": "https://localhost:8080/"
        },
        "id": "lo9nNx9TwcL4",
        "outputId": "5a8c59da-16a9-4071-c744-06edda54f022"
      },
      "execution_count": 80,
      "outputs": [
        {
          "output_type": "stream",
          "name": "stdout",
          "text": [
            "+--------------+------+---------+-------+-----------+--------------+----+-----+----------+-----+---------+--------+--------------------+------+---------+--------------------+--------------------+-------+-----------+---------------+-------------------+--------+--------------------+-----------+-----+---------+--------------+-------+-----------+------------------+--------------------+------+----------+---------+-------+--------+\n",
            "|        artist|attack|cardClass|classes|collectible|collectionText|cost|dbfId|durability|elite|entourage| faction|              flavor|health|hideStats|           howToEarn|     howToEarnGolden|     id|  mechanics|multiClassGroup|               name|overload|    playRequirements|playerClass| race|   rarity|referencedTags|    set|spellDamage|targetingArrowText|                text|  type|rarity_int|unique_id|left_id|right_id|\n",
            "+--------------+------+---------+-------+-----------+--------------+----+-----+----------+-----+---------+--------+--------------------+------+---------+--------------------+--------------------+-------+-----------+---------------+-------------------+--------+--------------------+-----------+-----+---------+--------------+-------+-----------+------------------+--------------------+------+----------+---------+-------+--------+\n",
            "| John Polidora|    10|  NEUTRAL|   NULL|       true|          NULL|   9| 2725|      NULL| true|     NULL|    NULL|This massive yeti...|    10|     NULL|                NULL|                NULL| AT_125|   [CHARGE]|           NULL|            Icehowl|    NULL|                NULL|    NEUTRAL| NULL|LEGENDARY|          NULL|    TGT|       NULL|              NULL|<b>Charge</b>\\nCa...|MINION|         4|        0|    376|     587|\n",
            "|    Glenn Rane|     3|  NEUTRAL|   NULL|       true|          NULL|   4| 1799|      NULL| NULL|     NULL|    NULL|This soul just <i...|     5|     NULL|Unlocked in The C...|Crafting unlocked...|FP1_016|[BATTLECRY]|           NULL|       Wailing Soul|    NULL|                NULL|    NEUTRAL| NULL|     RARE|     [SILENCE]|   NAXX|       NULL|              NULL|<b>Battlecry: Sil...|MINION|         3|        1|    171|     292|\n",
            "|   James Ryman|     2|  NEUTRAL|   NULL|       true|          NULL|   2|  891|      NULL| NULL|     NULL|ALLIANCE|She carries a shi...|     3|     NULL|                NULL|                NULL|EX1_058|[BATTLECRY]|           NULL|  Sunfury Protector|    NULL|                NULL|    NEUTRAL| NULL|     RARE|       [TAUNT]|EXPERT1|       NULL|              NULL|<b>Battlecry:</b>...|MINION|         3|        2|    802|     318|\n",
            "|  George Davis|     2|  WARLOCK|   NULL|       true|          NULL|   2| 2895|      NULL| NULL|     NULL|    NULL|I'm offering you ...|     2|     NULL|Unlocked in the T...|Crafting unlocked...|LOE_023|[BATTLECRY]|           NULL|       Dark Peddler|    NULL|                NULL|    WARLOCK| NULL|   COMMON|    [DISCOVER]|    LOE|       NULL|              NULL|<b>Battlecry: Dis...|MINION|         2|        3|    695|     570|\n",
            "| Garrett Hanna|     5|  NEUTRAL|   NULL|       true|          NULL|   4|40607|      NULL| true|     NULL|    NULL|Infamous in the s...|     4|     NULL|                NULL|                NULL|CFM_808|       NULL|           NULL|   Genzo, the Shark|    NULL|                NULL|    NEUTRAL| NULL|LEGENDARY|          NULL|  GANGS|       NULL|              NULL|Whenever this att...|MINION|         4|        4|    187|     278|\n",
            "|Wayne Reynolds|     1|  WARLOCK|   NULL|       true|          NULL|   1|13334|      NULL| NULL|     NULL|    NULL|The Reliquary con...|     1|     NULL|Unlocked in Uldam...|Crafting unlocked...|LOE_116|[BATTLECRY]|           NULL|   Reliquary Seeker|    NULL|                NULL|    WARLOCK| NULL|     RARE|          NULL|    LOE|       NULL|              NULL|<b>Battlecry:</b>...|MINION|         3|        5|    425|     305|\n",
            "|       Samwise|     4|  NEUTRAL|   NULL|       true|          NULL|   3| 1109|      NULL| NULL|     NULL|   HORDE|He claims it is a...|     7|     NULL|                NULL|                NULL|CS2_181|[BATTLECRY]|           NULL|Injured Blademaster|    NULL|                NULL|    NEUTRAL| NULL|     RARE|          NULL|EXPERT1|       NULL|              NULL|<b>Battlecry:</b>...|MINION|         3|        6|    605|     236|\n",
            "| Ralph Horsley|     6|  NEUTRAL|   NULL|       true|          NULL|   5| 2088|      NULL| true|     NULL|    NULL|It's hard to make...|     3|     NULL|                NULL|                NULL|GVG_120|[BATTLECRY]|           NULL|   Hemet Nesingwary|    NULL|{NULL, NULL, NULL...|    NEUTRAL| NULL|LEGENDARY|          NULL|    GVG|       NULL|  Destroy a Beast.|<b>Battlecry:</b>...|MINION|         4|        7|    259|      21|\n",
            "|     E.M. Gist|     9|  NEUTRAL|   NULL|       true|          NULL|   7| 1687|      NULL| NULL|     NULL|    NULL|You don’t tame a ...|     5|     NULL|                NULL|Unlocked at Hunte...|CS2_201|       NULL|           NULL|         Core Hound|    NULL|                NULL|    NEUTRAL|BEAST|   COMMON|          NULL|   CORE|       NULL|              NULL|                NULL|MINION|         2|        8|    684|     161|\n",
            "|    Adam Byrne|     3|   HUNTER|   NULL|       true|          NULL|   2|40684|      NULL| NULL|     NULL|    NULL|Still angry that ...|     2|     NULL|                NULL|                NULL|CFM_338|[BATTLECRY]|           NULL|   Trogg Beastrager|    NULL|                NULL|     HUNTER| NULL|     RARE|          NULL|  GANGS|       NULL|              NULL|<b>Battlecry:</b>...|MINION|         3|        9|    211|     220|\n",
            "+--------------+------+---------+-------+-----------+--------------+----+-----+----------+-----+---------+--------+--------------------+------+---------+--------------------+--------------------+-------+-----------+---------------+-------------------+--------+--------------------+-----------+-----+---------+--------------+-------+-----------+------------------+--------------------+------+----------+---------+-------+--------+\n",
            "only showing top 10 rows\n",
            "\n"
          ]
        }
      ]
    },
    {
      "cell_type": "code",
      "source": [
        "A = data_authors.alias(\"da1\").join(data_authors.alias(\"da2\"), col(\"da1.left_id\") == col(\"da2.right_id\"))\n",
        "\n",
        "data_crossed = A.select(col(\"da1.unique_id\").alias(\"left_id\"),\n",
        "                        col(\"da1.name\"), col(\"da1.attack\"),\n",
        "                        col(\"da1.health\"),\n",
        "                        col(\"da2.unique_id\").alias(\"right_id\"),\n",
        "                        col(\"da2.name\").alias(\"right_name\"),\n",
        "                        col(\"da2.attack\").alias(\"right_attack\"),\n",
        "                        col(\"da1.health\").alias(\"right_health\"))"
      ],
      "metadata": {
        "id": "DsDlQG7zv0IL"
      },
      "execution_count": 89,
      "outputs": []
    },
    {
      "cell_type": "code",
      "source": [
        "data_crossed.show(10)"
      ],
      "metadata": {
        "colab": {
          "base_uri": "https://localhost:8080/"
        },
        "id": "jTESJXnuxS32",
        "outputId": "4b992417-a88e-433f-cf0e-5528c707bc27"
      },
      "execution_count": 90,
      "outputs": [
        {
          "output_type": "stream",
          "name": "stdout",
          "text": [
            "+-------+-------------------+------+------+--------+--------------------+------------+------------+\n",
            "|left_id|               name|attack|health|right_id|          right_name|right_attack|right_health|\n",
            "+-------+-------------------+------+------+--------+--------------------+------------+------------+\n",
            "|      0|            Icehowl|    10|    10|     327|Medivh, the Guardian|           7|          10|\n",
            "|      1|       Wailing Soul|     3|     5|     212|          Jade Golem|          18|           5|\n",
            "|      2|  Sunfury Protector|     2|     3|     522|      Frigid Snobold|           2|           3|\n",
            "|      3|       Dark Peddler|     2|     2|     228|     Enchanted Raven|           2|           2|\n",
            "|      4|   Genzo, the Shark|     5|     4|     740|    Cruel Taskmaster|           2|           4|\n",
            "|      5|   Reliquary Seeker|     1|     1|     575|           Runic Egg|           0|           1|\n",
            "|      6|Injured Blademaster|     4|     7|      15|     River Crocolisk|           2|           7|\n",
            "|      7|   Hemet Nesingwary|     6|     3|     654|           Pit Snake|           2|           3|\n",
            "|      8|         Core Hound|     9|     5|     194|    Kabal Trafficker|           6|           5|\n",
            "|      9|   Trogg Beastrager|     3|     2|     289|      Bolf Ramshield|           3|           2|\n",
            "+-------+-------------------+------+------+--------+--------------------+------------+------------+\n",
            "only showing top 10 rows\n",
            "\n"
          ]
        }
      ]
    },
    {
      "cell_type": "code",
      "source": [
        "data_crossed = data_crossed.withColumn('Attacks to kill', calculate_number_of_attacks(\"attack\", \"right_health\"))"
      ],
      "metadata": {
        "id": "jmbk6rTbynkW"
      },
      "execution_count": 91,
      "outputs": []
    },
    {
      "cell_type": "code",
      "source": [
        "data_crossed.filter(col('Attacks to kill') > 10).show(100)"
      ],
      "metadata": {
        "colab": {
          "base_uri": "https://localhost:8080/"
        },
        "id": "QAOPRHWWv7Qp",
        "outputId": "7f9d32ee-d220-4abc-ebe8-6d9e7b18bdcd"
      },
      "execution_count": 94,
      "outputs": [
        {
          "output_type": "stream",
          "name": "stdout",
          "text": [
            "+-------+----+------+------+--------+----------+------------+------------+---------------+\n",
            "|left_id|name|attack|health|right_id|right_name|right_attack|right_health|Attacks to kill|\n",
            "+-------+----+------+------+--------+----------+------------+------------+---------------+\n",
            "+-------+----+------+------+--------+----------+------------+------------+---------------+\n",
            "\n"
          ]
        }
      ]
    },
    {
      "cell_type": "code",
      "source": [
        "data_crossed.filter(col('Attacks to kill') > 3).show(100)"
      ],
      "metadata": {
        "colab": {
          "base_uri": "https://localhost:8080/"
        },
        "id": "rVYW__7LyvUc",
        "outputId": "8558fa56-ef36-4aae-c02c-473b81dcdcf5"
      },
      "execution_count": 102,
      "outputs": [
        {
          "output_type": "stream",
          "name": "stdout",
          "text": [
            "+-------+--------------+------+------+--------+--------------------+------------+------------+---------------+\n",
            "|left_id|          name|attack|health|right_id|          right_name|right_attack|right_health|Attacks to kill|\n",
            "+-------+--------------+------+------+--------+--------------------+------------+------------+---------------+\n",
            "|    395|         Knife|     5|     1|     276|           Deathlord|           2|           1|              5|\n",
            "|    713|One-eyed Cheat|     4|     1|     316|  Majordomo Executus|           9|           1|              4|\n",
            "|    349|   Magma Rager|     5|     1|     443|Blackwing Technician|           2|           1|              5|\n",
            "|    450|  Shadow Rager|     5|     1|     490|        Reno Jackson|           4|           1|              5|\n",
            "|    720|      Duskboar|     4|     1|     590|      Gorillabot A-3|           3|           1|              4|\n",
            "|    824|     Mini-Mage|     4|     1|     680|          Jade Golem|          27|           1|              4|\n",
            "|     48|Twilight Drake|     4|     1|     759| Upgraded Repair Bot|           5|           1|              4|\n",
            "+-------+--------------+------+------+--------+--------------------+------------+------------+---------------+\n",
            "\n"
          ]
        }
      ]
    }
  ]
}